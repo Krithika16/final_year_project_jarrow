{
 "cells": [
  {
   "cell_type": "code",
   "execution_count": 1,
   "id": "4f5ce109-dc31-46b9-8f56-2d9b9148533d",
   "metadata": {},
   "outputs": [],
   "source": [
    "import tensorflow as tf\n",
    "import numpy as np"
   ]
  },
  {
   "cell_type": "code",
   "execution_count": 2,
   "id": "5069d18f-1de5-4b08-907f-6b4b6c494a84",
   "metadata": {},
   "outputs": [],
   "source": [
    "local_opti_epochs = 5\n",
    "global_opti_epochs = 2\n",
    "num_tasks = 5"
   ]
  },
  {
   "cell_type": "code",
   "execution_count": 3,
   "id": "144da008-6d0f-4322-929e-8d555e1fbe3f",
   "metadata": {
    "tags": []
   },
   "outputs": [],
   "source": [
    "class Model(tf.keras.Model):\n",
    "    def __init__(self):\n",
    "        super().__init__()\n",
    "        self.hidden1 = tf.keras.layers.Dense(40, input_shape=(1,))\n",
    "        self.hidden2 = tf.keras.layers.Dense(40)\n",
    "        self.out = tf.keras.layers.Dense(1)\n",
    "        \n",
    "    def call(self, x):\n",
    "        x = tf.keras.activations.relu(self.hidden1(x))\n",
    "        x = tf.keras.activations.relu(self.hidden2(x))\n",
    "        x = self.out(x)\n",
    "        return x"
   ]
  },
  {
   "cell_type": "code",
   "execution_count": 4,
   "id": "7a51b0b7-6dc9-40de-839a-71b15fa90bcb",
   "metadata": {},
   "outputs": [],
   "source": [
    "def np_to_tensor(list_of_numpy_objs):\n",
    "    return (tf.convert_to_tensor(obj) for obj in list_of_numpy_objs)"
   ]
  },
  {
   "cell_type": "code",
   "execution_count": 5,
   "id": "ab30e31d-f37b-4455-a518-92dde49ae4c6",
   "metadata": {},
   "outputs": [],
   "source": [
    "def loss_func(pred_y, y):\n",
    "    return tf.keras.losses.MSE(y_true, y_pred)"
   ]
  },
  {
   "cell_type": "code",
   "execution_count": 6,
   "id": "659934b7-3e25-4caf-91c2-128eecc4dc6c",
   "metadata": {},
   "outputs": [],
   "source": [
    "xs = []\n",
    "for i in range(num_tasks):\n",
    "    x = np.random.random((1000, 32))\n",
    "    xs.append(x)\n",
    "y = np.random.random((1000, 1)) * 3"
   ]
  },
  {
   "cell_type": "code",
   "execution_count": 7,
   "id": "1cc99083-da64-488a-9f63-a7952f0ebb09",
   "metadata": {},
   "outputs": [],
   "source": [
    "model = Model()\n",
    "model.compile(optimizer=\"adam\", loss=\"mse\", metrics=[\"mae\"])"
   ]
  },
  {
   "cell_type": "code",
   "execution_count": 8,
   "id": "b61d8409",
   "metadata": {},
   "outputs": [],
   "source": [
    "class Global_Model:\n",
    "    def __init__(self, num_augs):\n",
    "        self.apply_dist = tf.Variable(initial_value=[1/num_augs] * num_augs, trainable=True)\n",
    "                    \n",
    "    def call(self, x, training=True):\n",
    "        result = self.apply_dist\n",
    "        if training:\n",
    "            std_val = tf.math.reduce_std(self.apply_dist)\n",
    "            std_val += 0.01\n",
    "            result = result + tf.random.normal(result.shape, mean=0.0, stddev=std_val)\n",
    "            result = tf.expand_dims(result, axis=0)\n",
    "            result = tf.random.categorical(tf.math.log(result), 1)[0]\n",
    "        else:\n",
    "            result = tf.argmax(result)\n",
    "        \n",
    "        return result\n",
    "\n",
    "        \n",
    "        \n"
   ]
  },
  {
   "cell_type": "code",
   "execution_count": 9,
   "id": "147fa649-09ff-42a0-9d1a-996cf9735441",
   "metadata": {},
   "outputs": [
    {
     "name": "stdout",
     "output_type": "stream",
     "text": [
      "tf.Tensor([0], shape=(1,), dtype=int64)\n",
      "tf.Tensor(0, shape=(), dtype=int64)\n",
      "tf.Tensor([2], shape=(1,), dtype=int64)\n",
      "tf.Tensor(0, shape=(), dtype=int64)\n"
     ]
    }
   ],
   "source": [
    "gm = Global_Model(num_tasks)\n",
    "for ge in range(global_opti_epochs):\n",
    "    print(gm.call(None, True))\n",
    "    print(gm.call(None, False))\n",
    "        "
   ]
  },
  {
   "cell_type": "code",
   "execution_count": null,
   "id": "4d555225",
   "metadata": {},
   "outputs": [],
   "source": []
  },
  {
   "cell_type": "code",
   "execution_count": null,
   "id": "56f209dc",
   "metadata": {},
   "outputs": [],
   "source": []
  }
 ],
 "metadata": {
  "kernelspec": {
   "display_name": "Python 3",
   "language": "python",
   "name": "python3"
  },
  "language_info": {
   "codemirror_mode": {
    "name": "ipython",
    "version": 3
   },
   "file_extension": ".py",
   "mimetype": "text/x-python",
   "name": "python",
   "nbconvert_exporter": "python",
   "pygments_lexer": "ipython3",
   "version": "3.6.9"
  }
 },
 "nbformat": 4,
 "nbformat_minor": 5
}
